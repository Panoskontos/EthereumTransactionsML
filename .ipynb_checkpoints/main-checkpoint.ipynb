{
 "cells": [
  {
   "cell_type": "code",
   "execution_count": 74,
   "id": "4d6066ff",
   "metadata": {},
   "outputs": [
    {
     "name": "stdout",
     "output_type": "stream",
     "text": [
      "   Unnamed: 0                                               hash  nonce  \\\n",
      "0           0  0xa611438e5637c227e5080477b7180fc3d1c76710f2aa...     14   \n",
      "1           1  0xd5d2fe97f1fa4b772476e208f1e9a3441a0f54a020ac...      3   \n",
      "2           2  0xc93e15158aa51a4d9a93c3c153868c8c89f4545c3445...     19   \n",
      "3           3  0x454bc286bda9cf62a43730e465df8e76c23124d6dde7...     17   \n",
      "4           4  0xba053083f0752cd5f9a152105698dba490d5992b9839...    993   \n",
      "\n",
      "   transaction_index                                from_address  \\\n",
      "0                 41  0x506a48155c891c78c04bc0b70eb1d9b2361635e0   \n",
      "1                 59  0x544c7de319b72b557a0c1fafccf5202813f9f3f7   \n",
      "2                 76  0x1562c07b34b828cedaadda6959a0b1362103b7b4   \n",
      "3                 83  0x0afaec415159835aab6d56fbc6a22e1d60c76c45   \n",
      "4                 90  0x7bd8477901552199e8208f62875aa94fab2fffb3   \n",
      "\n",
      "                                   to_address         value     gas  \\\n",
      "0  0x7cc46cf6392ed9db45351a3f82eb2cc3b83da761  0.000000e+00  157911   \n",
      "1  0xf89d7b9c864f589bbf53a82105107622b35eaa40  1.708352e+15   21000   \n",
      "2  0x7dbfed48bddd2d4357f1f3c7dc45f5f85eb7100e  1.240000e+17   21000   \n",
      "3  0x6448d7a20ece8c57212ad52b362b5c9b4feac27d  3.300000e+17  176364   \n",
      "4  0x68b3465833fb72a70ecdf485e0e4c7bd8665fc45  0.000000e+00  212432   \n",
      "\n",
      "     gas_price                                              input  ...  \\\n",
      "0  12618483129  0xa0712d68000000000000000000000000000000000000...  ...   \n",
      "1  12118483129                                                 0x  ...   \n",
      "2  11618483129                                                 0x  ...   \n",
      "3  11618483129  0x7649b957000000000000000000000000000000000000...  ...   \n",
      "4  11618483129  0x5ae401dc000000000000000000000000000000000000...  ...   \n",
      "\n",
      "   receipt_contract_address  receipt_root receipt_status  \\\n",
      "0                       NaN           NaN              1   \n",
      "1                       NaN           NaN              1   \n",
      "2                       NaN           NaN              1   \n",
      "3                       NaN           NaN              1   \n",
      "4                       NaN           NaN              1   \n",
      "\n",
      "             block_timestamp  block_number  \\\n",
      "0  2022-12-04 17:56:23+00:00      16113072   \n",
      "1  2022-12-04 17:56:23+00:00      16113072   \n",
      "2  2022-12-04 17:56:23+00:00      16113072   \n",
      "3  2022-12-04 17:56:23+00:00      16113072   \n",
      "4  2022-12-04 17:56:23+00:00      16113072   \n",
      "\n",
      "                                          block_hash  max_fee_per_gas  \\\n",
      "0  0x2dded46570b4cf879e0083e7f37a9169061075965dfd...     2.362667e+10   \n",
      "1  0x2dded46570b4cf879e0083e7f37a9169061075965dfd...     2.000000e+11   \n",
      "2  0x2dded46570b4cf879e0083e7f37a9169061075965dfd...     1.601040e+10   \n",
      "3  0x2dded46570b4cf879e0083e7f37a9169061075965dfd...     1.601040e+10   \n",
      "4  0x2dded46570b4cf879e0083e7f37a9169061075965dfd...     1.576050e+10   \n",
      "\n",
      "  max_priority_fee_per_gas  transaction_type  receipt_effective_gas_price  \n",
      "0             2.500000e+09                 2                  12618483129  \n",
      "1             2.000000e+09                 2                  12118483129  \n",
      "2             1.500000e+09                 2                  11618483129  \n",
      "3             1.500000e+09                 2                  11618483129  \n",
      "4             1.500000e+09                 2                  11618483129  \n",
      "\n",
      "[5 rows x 22 columns]\n"
     ]
    }
   ],
   "source": [
    "import pandas as pd\n",
    "\n",
    "# Load the CSV data into a DataFrame\n",
    "df = pd.read_csv('eth_transactions.csv')\n",
    "\n",
    "# Display the first 5 rows of the DataFrame\n",
    "print(df.head())"
   ]
  },
  {
   "cell_type": "markdown",
   "id": "579eae1b",
   "metadata": {},
   "source": [
    "## EDA (Exploratory Data Analysis)"
   ]
  },
  {
   "cell_type": "code",
   "execution_count": 75,
   "id": "69724de3",
   "metadata": {},
   "outputs": [
    {
     "name": "stdout",
     "output_type": "stream",
     "text": [
      "(100000, 22)\n",
      "Index(['Unnamed: 0', 'hash', 'nonce', 'transaction_index', 'from_address',\n",
      "       'to_address', 'value', 'gas', 'gas_price', 'input',\n",
      "       'receipt_cumulative_gas_used', 'receipt_gas_used',\n",
      "       'receipt_contract_address', 'receipt_root', 'receipt_status',\n",
      "       'block_timestamp', 'block_number', 'block_hash', 'max_fee_per_gas',\n",
      "       'max_priority_fee_per_gas', 'transaction_type',\n",
      "       'receipt_effective_gas_price'],\n",
      "      dtype='object')\n"
     ]
    }
   ],
   "source": [
    "print(df.shape)\n",
    "print(df.columns)"
   ]
  },
  {
   "cell_type": "markdown",
   "id": "5e5b3e11",
   "metadata": {},
   "source": [
    "# About our Data\n",
    "\n",
    "<p>\n",
    "Unnamed: 0: This is likely an index column from the original dataset. It doesn't carry any meaningful information for our analysis.\n",
    "\n",
    "hash: This is the unique identifier of the transaction.\n",
    "\n",
    "nonce: This is a value that can only be used once. It's used to prevent the same transaction from being processed more than once.\n",
    "\n",
    "transaction_index: This is the position of the transaction in the block.\n",
    "\n",
    "from_address: This is the address of the sender of the transaction.\n",
    "\n",
    "to_address: This is the address of the receiver of the transaction.\n",
    "\n",
    "value: This is the amount of Ether being transferred in the transaction.\n",
    "\n",
    "gas: This is the amount of \"gas\" provided for the transaction. Gas in Ethereum is the measure of computational effort.\n",
    "\n",
    "gas_price: This is the price of gas in Gwei (1 Gwei = 1e-9 Ether) set by the sender of the transaction.\n",
    "\n",
    "input: This is an optional data field that can be included in a transaction. It's used when the transaction is sent to a smart contract.\n",
    "\n",
    "receipt_cumulative_gas_used: This is the total amount of gas used in the block when this transaction was processed.\n",
    "\n",
    "receipt_gas_used: This is the amount of gas used by this particular transaction.\n",
    "\n",
    "receipt_contract_address: If the transaction was a contract creation, this is the address of the created contract.\n",
    "\n",
    "receipt_status: This is the status of the transaction - '1' means the transaction was successful, and '0' means it failed.\n",
    "\n",
    "block_hash: This is the unique identifier of the block that includes this transaction.\n",
    "\n",
    "block_number: This is the number of the block that includes this transaction.\n",
    "\n",
    "block_timestamp: This is the timestamp of when the block was mined.\n",
    "</p>"
   ]
  },
  {
   "cell_type": "code",
   "execution_count": 76,
   "id": "27dd9dec",
   "metadata": {},
   "outputs": [
    {
     "name": "stdout",
     "output_type": "stream",
     "text": [
      "Unnamed: 0                          0\n",
      "hash                                0\n",
      "nonce                               0\n",
      "transaction_index                   0\n",
      "from_address                        0\n",
      "to_address                         84\n",
      "value                               0\n",
      "gas                                 0\n",
      "gas_price                           0\n",
      "input                               0\n",
      "receipt_cumulative_gas_used         0\n",
      "receipt_gas_used                    0\n",
      "receipt_contract_address        99916\n",
      "receipt_root                   100000\n",
      "receipt_status                      0\n",
      "block_timestamp                     0\n",
      "block_number                        0\n",
      "block_hash                          0\n",
      "max_fee_per_gas                 19634\n",
      "max_priority_fee_per_gas        19634\n",
      "transaction_type                    0\n",
      "receipt_effective_gas_price         0\n",
      "dtype: int64\n"
     ]
    }
   ],
   "source": [
    "print(df.isnull().sum())"
   ]
  },
  {
   "cell_type": "code",
   "execution_count": 77,
   "id": "31000325",
   "metadata": {},
   "outputs": [
    {
     "name": "stdout",
     "output_type": "stream",
     "text": [
      "          Unnamed: 0         nonce  transaction_index         value  \\\n",
      "count  100000.000000  1.000000e+05      100000.000000  1.000000e+05   \n",
      "mean    49999.500000  3.519668e+05          86.818590  8.415031e+17   \n",
      "std     28867.657797  1.301480e+06          59.731658  1.321514e+20   \n",
      "min         0.000000  0.000000e+00           0.000000  0.000000e+00   \n",
      "25%     24999.750000  5.000000e+00          39.000000  0.000000e+00   \n",
      "50%     49999.500000  8.500000e+01          80.000000  0.000000e+00   \n",
      "75%     74999.250000  1.776000e+03         123.000000  1.898315e+16   \n",
      "max     99999.000000  4.564810e+07         391.000000  4.169131e+22   \n",
      "\n",
      "                gas     gas_price  receipt_cumulative_gas_used  \\\n",
      "count  1.000000e+05  1.000000e+05                 1.000000e+05   \n",
      "mean   1.955437e+05  1.445936e+10                 6.980780e+06   \n",
      "std    7.863293e+05  4.598533e+10                 5.807322e+06   \n",
      "min    2.100000e+04  9.135243e+09                 2.100000e+04   \n",
      "25%    2.100000e+04  1.202948e+10                 2.649531e+06   \n",
      "50%    7.938100e+04  1.285601e+10                 5.525406e+06   \n",
      "75%    1.946640e+05  1.369763e+10                 9.742323e+06   \n",
      "max    2.850000e+07  9.053937e+12                 2.999969e+07   \n",
      "\n",
      "       receipt_gas_used  receipt_root  receipt_status  block_number  \\\n",
      "count      1.000000e+05           0.0   100000.000000  1.000000e+05   \n",
      "mean       9.601085e+04           NaN        0.981750  1.611276e+07   \n",
      "std        4.116999e+05           NaN        0.133855  1.826013e+02   \n",
      "min        2.100000e+04           NaN        0.000000  1.611244e+07   \n",
      "25%        2.100000e+04           NaN        1.000000  1.611260e+07   \n",
      "50%        4.658100e+04           NaN        1.000000  1.611276e+07   \n",
      "75%        1.018960e+05           NaN        1.000000  1.611291e+07   \n",
      "max        2.850000e+07           NaN        1.000000  1.611307e+07   \n",
      "\n",
      "       max_fee_per_gas  max_priority_fee_per_gas  transaction_type  \\\n",
      "count     8.036600e+04              8.036600e+04     100000.000000   \n",
      "mean      4.946175e+10              3.291369e+09          1.608390   \n",
      "std       9.409502e+10              5.085148e+10          0.792968   \n",
      "min       9.135243e+09              0.000000e+00          0.000000   \n",
      "25%       1.559273e+10              1.500000e+09          2.000000   \n",
      "50%       1.740827e+10              1.500000e+09          2.000000   \n",
      "75%       2.623046e+10              2.000000e+09          2.000000   \n",
      "max       9.055276e+12              9.043230e+12          2.000000   \n",
      "\n",
      "       receipt_effective_gas_price  \n",
      "count                 1.000000e+05  \n",
      "mean                  1.445936e+10  \n",
      "std                   4.598533e+10  \n",
      "min                   9.135243e+09  \n",
      "25%                   1.202948e+10  \n",
      "50%                   1.285601e+10  \n",
      "75%                   1.369763e+10  \n",
      "max                   9.053937e+12  \n"
     ]
    }
   ],
   "source": [
    "print(df.describe())"
   ]
  },
  {
   "cell_type": "markdown",
   "id": "0a3f060a",
   "metadata": {},
   "source": [
    "## Data Cleaning Process"
   ]
  },
  {
   "cell_type": "code",
   "execution_count": 78,
   "id": "08f2e29a",
   "metadata": {},
   "outputs": [],
   "source": [
    "# Drop unnecessary columns\n",
    "columns_to_drop = ['Unnamed: 0','receipt_root']\n",
    "df = df.drop(columns=columns_to_drop)"
   ]
  },
  {
   "cell_type": "code",
   "execution_count": 79,
   "id": "b5c4d826",
   "metadata": {},
   "outputs": [],
   "source": [
    "# Handle missing values - Since the 'to_address' column has missing values, we fill them with a placeholder \n",
    "# (Ethereum transactions to a null address are typically contract creation transactions)\n",
    "df['to_address'] = df['to_address'].fillna('ContractCreation')"
   ]
  },
  {
   "cell_type": "code",
   "execution_count": 80,
   "id": "ad864ae5",
   "metadata": {},
   "outputs": [
    {
     "name": "stdout",
     "output_type": "stream",
     "text": [
      "hash                               0\n",
      "nonce                              0\n",
      "transaction_index                  0\n",
      "from_address                       0\n",
      "to_address                         0\n",
      "value                              0\n",
      "gas                                0\n",
      "gas_price                          0\n",
      "input                              0\n",
      "receipt_cumulative_gas_used        0\n",
      "receipt_gas_used                   0\n",
      "receipt_contract_address       99916\n",
      "receipt_status                     0\n",
      "block_timestamp                    0\n",
      "block_number                       0\n",
      "block_hash                         0\n",
      "max_fee_per_gas                19634\n",
      "max_priority_fee_per_gas       19634\n",
      "transaction_type                   0\n",
      "receipt_effective_gas_price        0\n",
      "dtype: int64\n"
     ]
    }
   ],
   "source": [
    "print(df.isnull().sum())"
   ]
  },
  {
   "cell_type": "code",
   "execution_count": 81,
   "id": "7dd792c1",
   "metadata": {},
   "outputs": [
    {
     "data": {
      "text/html": [
       "<div>\n",
       "<style scoped>\n",
       "    .dataframe tbody tr th:only-of-type {\n",
       "        vertical-align: middle;\n",
       "    }\n",
       "\n",
       "    .dataframe tbody tr th {\n",
       "        vertical-align: top;\n",
       "    }\n",
       "\n",
       "    .dataframe thead th {\n",
       "        text-align: right;\n",
       "    }\n",
       "</style>\n",
       "<table border=\"1\" class=\"dataframe\">\n",
       "  <thead>\n",
       "    <tr style=\"text-align: right;\">\n",
       "      <th></th>\n",
       "      <th>hash</th>\n",
       "      <th>nonce</th>\n",
       "      <th>transaction_index</th>\n",
       "      <th>from_address</th>\n",
       "      <th>to_address</th>\n",
       "      <th>value</th>\n",
       "      <th>gas</th>\n",
       "      <th>gas_price</th>\n",
       "      <th>input</th>\n",
       "      <th>receipt_cumulative_gas_used</th>\n",
       "      <th>receipt_gas_used</th>\n",
       "      <th>receipt_contract_address</th>\n",
       "      <th>receipt_status</th>\n",
       "      <th>block_timestamp</th>\n",
       "      <th>block_number</th>\n",
       "      <th>block_hash</th>\n",
       "      <th>max_fee_per_gas</th>\n",
       "      <th>max_priority_fee_per_gas</th>\n",
       "      <th>transaction_type</th>\n",
       "      <th>receipt_effective_gas_price</th>\n",
       "    </tr>\n",
       "  </thead>\n",
       "  <tbody>\n",
       "    <tr>\n",
       "      <th>0</th>\n",
       "      <td>0xa611438e5637c227e5080477b7180fc3d1c76710f2aa...</td>\n",
       "      <td>14</td>\n",
       "      <td>41</td>\n",
       "      <td>0x506a48155c891c78c04bc0b70eb1d9b2361635e0</td>\n",
       "      <td>0x7cc46cf6392ed9db45351a3f82eb2cc3b83da761</td>\n",
       "      <td>0.000000e+00</td>\n",
       "      <td>157911</td>\n",
       "      <td>12618483129</td>\n",
       "      <td>0xa0712d68000000000000000000000000000000000000...</td>\n",
       "      <td>2727153</td>\n",
       "      <td>100474</td>\n",
       "      <td>NaN</td>\n",
       "      <td>1</td>\n",
       "      <td>2022-12-04 17:56:23+00:00</td>\n",
       "      <td>16113072</td>\n",
       "      <td>0x2dded46570b4cf879e0083e7f37a9169061075965dfd...</td>\n",
       "      <td>2.362667e+10</td>\n",
       "      <td>2.500000e+09</td>\n",
       "      <td>2</td>\n",
       "      <td>12618483129</td>\n",
       "    </tr>\n",
       "    <tr>\n",
       "      <th>1</th>\n",
       "      <td>0xd5d2fe97f1fa4b772476e208f1e9a3441a0f54a020ac...</td>\n",
       "      <td>3</td>\n",
       "      <td>59</td>\n",
       "      <td>0x544c7de319b72b557a0c1fafccf5202813f9f3f7</td>\n",
       "      <td>0xf89d7b9c864f589bbf53a82105107622b35eaa40</td>\n",
       "      <td>1.708352e+15</td>\n",
       "      <td>21000</td>\n",
       "      <td>12118483129</td>\n",
       "      <td>0x</td>\n",
       "      <td>4348316</td>\n",
       "      <td>21000</td>\n",
       "      <td>NaN</td>\n",
       "      <td>1</td>\n",
       "      <td>2022-12-04 17:56:23+00:00</td>\n",
       "      <td>16113072</td>\n",
       "      <td>0x2dded46570b4cf879e0083e7f37a9169061075965dfd...</td>\n",
       "      <td>2.000000e+11</td>\n",
       "      <td>2.000000e+09</td>\n",
       "      <td>2</td>\n",
       "      <td>12118483129</td>\n",
       "    </tr>\n",
       "    <tr>\n",
       "      <th>2</th>\n",
       "      <td>0xc93e15158aa51a4d9a93c3c153868c8c89f4545c3445...</td>\n",
       "      <td>19</td>\n",
       "      <td>76</td>\n",
       "      <td>0x1562c07b34b828cedaadda6959a0b1362103b7b4</td>\n",
       "      <td>0x7dbfed48bddd2d4357f1f3c7dc45f5f85eb7100e</td>\n",
       "      <td>1.240000e+17</td>\n",
       "      <td>21000</td>\n",
       "      <td>11618483129</td>\n",
       "      <td>0x</td>\n",
       "      <td>5206151</td>\n",
       "      <td>21000</td>\n",
       "      <td>NaN</td>\n",
       "      <td>1</td>\n",
       "      <td>2022-12-04 17:56:23+00:00</td>\n",
       "      <td>16113072</td>\n",
       "      <td>0x2dded46570b4cf879e0083e7f37a9169061075965dfd...</td>\n",
       "      <td>1.601040e+10</td>\n",
       "      <td>1.500000e+09</td>\n",
       "      <td>2</td>\n",
       "      <td>11618483129</td>\n",
       "    </tr>\n",
       "    <tr>\n",
       "      <th>3</th>\n",
       "      <td>0x454bc286bda9cf62a43730e465df8e76c23124d6dde7...</td>\n",
       "      <td>17</td>\n",
       "      <td>83</td>\n",
       "      <td>0x0afaec415159835aab6d56fbc6a22e1d60c76c45</td>\n",
       "      <td>0x6448d7a20ece8c57212ad52b362b5c9b4feac27d</td>\n",
       "      <td>3.300000e+17</td>\n",
       "      <td>176364</td>\n",
       "      <td>11618483129</td>\n",
       "      <td>0x7649b957000000000000000000000000000000000000...</td>\n",
       "      <td>6065201</td>\n",
       "      <td>111434</td>\n",
       "      <td>NaN</td>\n",
       "      <td>1</td>\n",
       "      <td>2022-12-04 17:56:23+00:00</td>\n",
       "      <td>16113072</td>\n",
       "      <td>0x2dded46570b4cf879e0083e7f37a9169061075965dfd...</td>\n",
       "      <td>1.601040e+10</td>\n",
       "      <td>1.500000e+09</td>\n",
       "      <td>2</td>\n",
       "      <td>11618483129</td>\n",
       "    </tr>\n",
       "    <tr>\n",
       "      <th>4</th>\n",
       "      <td>0xba053083f0752cd5f9a152105698dba490d5992b9839...</td>\n",
       "      <td>993</td>\n",
       "      <td>90</td>\n",
       "      <td>0x7bd8477901552199e8208f62875aa94fab2fffb3</td>\n",
       "      <td>0x68b3465833fb72a70ecdf485e0e4c7bd8665fc45</td>\n",
       "      <td>0.000000e+00</td>\n",
       "      <td>212432</td>\n",
       "      <td>11618483129</td>\n",
       "      <td>0x5ae401dc000000000000000000000000000000000000...</td>\n",
       "      <td>6620399</td>\n",
       "      <td>152899</td>\n",
       "      <td>NaN</td>\n",
       "      <td>1</td>\n",
       "      <td>2022-12-04 17:56:23+00:00</td>\n",
       "      <td>16113072</td>\n",
       "      <td>0x2dded46570b4cf879e0083e7f37a9169061075965dfd...</td>\n",
       "      <td>1.576050e+10</td>\n",
       "      <td>1.500000e+09</td>\n",
       "      <td>2</td>\n",
       "      <td>11618483129</td>\n",
       "    </tr>\n",
       "  </tbody>\n",
       "</table>\n",
       "</div>"
      ],
      "text/plain": [
       "                                                hash  nonce  \\\n",
       "0  0xa611438e5637c227e5080477b7180fc3d1c76710f2aa...     14   \n",
       "1  0xd5d2fe97f1fa4b772476e208f1e9a3441a0f54a020ac...      3   \n",
       "2  0xc93e15158aa51a4d9a93c3c153868c8c89f4545c3445...     19   \n",
       "3  0x454bc286bda9cf62a43730e465df8e76c23124d6dde7...     17   \n",
       "4  0xba053083f0752cd5f9a152105698dba490d5992b9839...    993   \n",
       "\n",
       "   transaction_index                                from_address  \\\n",
       "0                 41  0x506a48155c891c78c04bc0b70eb1d9b2361635e0   \n",
       "1                 59  0x544c7de319b72b557a0c1fafccf5202813f9f3f7   \n",
       "2                 76  0x1562c07b34b828cedaadda6959a0b1362103b7b4   \n",
       "3                 83  0x0afaec415159835aab6d56fbc6a22e1d60c76c45   \n",
       "4                 90  0x7bd8477901552199e8208f62875aa94fab2fffb3   \n",
       "\n",
       "                                   to_address         value     gas  \\\n",
       "0  0x7cc46cf6392ed9db45351a3f82eb2cc3b83da761  0.000000e+00  157911   \n",
       "1  0xf89d7b9c864f589bbf53a82105107622b35eaa40  1.708352e+15   21000   \n",
       "2  0x7dbfed48bddd2d4357f1f3c7dc45f5f85eb7100e  1.240000e+17   21000   \n",
       "3  0x6448d7a20ece8c57212ad52b362b5c9b4feac27d  3.300000e+17  176364   \n",
       "4  0x68b3465833fb72a70ecdf485e0e4c7bd8665fc45  0.000000e+00  212432   \n",
       "\n",
       "     gas_price                                              input  \\\n",
       "0  12618483129  0xa0712d68000000000000000000000000000000000000...   \n",
       "1  12118483129                                                 0x   \n",
       "2  11618483129                                                 0x   \n",
       "3  11618483129  0x7649b957000000000000000000000000000000000000...   \n",
       "4  11618483129  0x5ae401dc000000000000000000000000000000000000...   \n",
       "\n",
       "   receipt_cumulative_gas_used  receipt_gas_used receipt_contract_address  \\\n",
       "0                      2727153            100474                      NaN   \n",
       "1                      4348316             21000                      NaN   \n",
       "2                      5206151             21000                      NaN   \n",
       "3                      6065201            111434                      NaN   \n",
       "4                      6620399            152899                      NaN   \n",
       "\n",
       "   receipt_status            block_timestamp  block_number  \\\n",
       "0               1  2022-12-04 17:56:23+00:00      16113072   \n",
       "1               1  2022-12-04 17:56:23+00:00      16113072   \n",
       "2               1  2022-12-04 17:56:23+00:00      16113072   \n",
       "3               1  2022-12-04 17:56:23+00:00      16113072   \n",
       "4               1  2022-12-04 17:56:23+00:00      16113072   \n",
       "\n",
       "                                          block_hash  max_fee_per_gas  \\\n",
       "0  0x2dded46570b4cf879e0083e7f37a9169061075965dfd...     2.362667e+10   \n",
       "1  0x2dded46570b4cf879e0083e7f37a9169061075965dfd...     2.000000e+11   \n",
       "2  0x2dded46570b4cf879e0083e7f37a9169061075965dfd...     1.601040e+10   \n",
       "3  0x2dded46570b4cf879e0083e7f37a9169061075965dfd...     1.601040e+10   \n",
       "4  0x2dded46570b4cf879e0083e7f37a9169061075965dfd...     1.576050e+10   \n",
       "\n",
       "   max_priority_fee_per_gas  transaction_type  receipt_effective_gas_price  \n",
       "0              2.500000e+09                 2                  12618483129  \n",
       "1              2.000000e+09                 2                  12118483129  \n",
       "2              1.500000e+09                 2                  11618483129  \n",
       "3              1.500000e+09                 2                  11618483129  \n",
       "4              1.500000e+09                 2                  11618483129  "
      ]
     },
     "execution_count": 81,
     "metadata": {},
     "output_type": "execute_result"
    }
   ],
   "source": [
    "df.head()"
   ]
  },
  {
   "cell_type": "code",
   "execution_count": 82,
   "id": "1b66d223",
   "metadata": {},
   "outputs": [],
   "source": [
    "# Convert the 'block_timestamp' to datetime\n",
    "df['block_timestamp'] = pd.to_datetime(df['block_timestamp'])"
   ]
  },
  {
   "cell_type": "code",
   "execution_count": 83,
   "id": "38dc7d78",
   "metadata": {},
   "outputs": [
    {
     "name": "stdout",
     "output_type": "stream",
     "text": [
      "unique_from_addresses 48864\n",
      "unique_to_addresses 24860\n"
     ]
    }
   ],
   "source": [
    "# Number of unique addresses\n",
    "unique_from_addresses = df['from_address'].nunique()\n",
    "unique_to_addresses = df['to_address'].nunique()\n",
    "\n",
    "print(\"unique_from_addresses\",unique_from_addresses)\n",
    "print(\"unique_to_addresses\",unique_to_addresses)"
   ]
  },
  {
   "cell_type": "markdown",
   "id": "7cf1c124",
   "metadata": {},
   "source": [
    "# which addreses appear more than others"
   ]
  },
  {
   "cell_type": "code",
   "execution_count": 84,
   "id": "f567e7a8",
   "metadata": {},
   "outputs": [
    {
     "name": "stdout",
     "output_type": "stream",
     "text": [
      "0x1be210e7990eff6c07cb8cadcb9d077063ac3614    1267\n",
      "0x21a31ee1afc51d94c2efccaa2092ad1028285549     799\n",
      "0x46340b20830761efd32832a74d7169b29feb9758     755\n",
      "0xdfd5293d8e347dfe59e90efd55b2956a1343963d     726\n",
      "0x28c6c06298d514db089934071355e5743bf21d60     709\n",
      "0xa9831d89c4067bf7518efbcb6351ef6dd0059f33     679\n",
      "0x56eddb7aa87536c09ccc2793473599fd21a8b17f     602\n",
      "0x9696f59e4d72e237be84ffd425dcad154bf96976     535\n",
      "0x4976a4a02f38326660d17bf34b431dc6e2eb2327     413\n",
      "0xab97925eb84fe0260779f58b7cb08d77dcb1ee2b     411\n",
      "0x974caa59e49682cda0ad2bbe82983419a2ecc400     374\n",
      "0x6dfc34609a05bc22319fa4cce1d1e2929548c0d7     358\n",
      "0x75e89d5979e4f6fba9f97c104c2f0afb3f1dcb88     324\n",
      "0xf16e9b0d03470827a95cdfd0cb8a8a3b46969b91     274\n",
      "0x6887246668a3b87f54deb3b94ba47a6f63f32985     268\n",
      "0x99ade43be1c386423ea4ab53e69efcd98e211fda     262\n",
      "0x0acdd0fefb605957dfcba4816d77c43dec3f1f79     260\n",
      "0x7830c87c02e56aff27fa8ab1241711331fa86f43     251\n",
      "0xd24400ae8bfebb18ca49be86258a3c749cf46853     242\n",
      "0xa152f8bb749c55e9943a3a0a3111d18ee2b3f94e     239\n",
      "0xf89d7b9c864f589bbf53a82105107622b35eaa40     221\n",
      "0x3feea8d80c68f9e08b60bc6f431bd6490e2ca7af     170\n",
      "0x3cd751e6b0078be393132286c442345e5dc49699     165\n",
      "0x95a9bd206ae52c4ba8eecfc93d18eacdd41c88cc     162\n",
      "0x09aa7bd101451c9e1d99764dbb4846cb08cdbc02     158\n",
      "0xddfabcdc4d8ffc6d5beaf154f18b778f892a0740     158\n",
      "0x77696bb39917c91a0c3908d577d5e322095425ca     154\n",
      "0xeb2629a2734e272bcc07bda959863f316f4bd4cf     153\n",
      "0xb5d85cbf7cb3ee0d56b3bb207d5fc4b82f43f511     152\n",
      "0xf7858da8a6617f7c6d0ff2bcafdb6d2eedf64840     149\n",
      "0x267be1c1d684f78cb4f6a176c4911b741e4ffdc0     148\n",
      "0xcad621da75a66c7a8f4ff86d30a2bf981bfc8fdd     147\n",
      "0x7c195d981abfdc3ddecd2ca0fed0958430488e34     144\n",
      "0x80c67432656d59144ceff962e8faf8926599bcf8     143\n",
      "0x690b9a9e9aa1c9db991c7721a92d351db4fac990     142\n",
      "0xdafea492d9c6733ae3d56b7ed1adb60692c98bc5     138\n",
      "0x91aae0aafd9d2d730111b395c6871f248d7bd728     138\n",
      "0x71660c4005ba85c37ccec55d0c4493e66fe775d3     136\n",
      "0x503828976d22510aad0201ac7ec88293211d23da     135\n",
      "0xf60c2ea62edbfe808163751dd0d8693dcb30019c     133\n",
      "Name: from_address, dtype: int64\n"
     ]
    }
   ],
   "source": [
    "print(df['from_address'].value_counts().head(40))"
   ]
  },
  {
   "cell_type": "markdown",
   "id": "88a67670",
   "metadata": {},
   "source": [
    "# Plot these?"
   ]
  },
  {
   "cell_type": "code",
   "execution_count": 96,
   "id": "5abc5427",
   "metadata": {},
   "outputs": [
    {
     "name": "stdout",
     "output_type": "stream",
     "text": [
      "0xf89d7b9c864f589bbf53a82105107622b35eaa40    8785\n",
      "0xdac17f958d2ee523a2206206994597c13d831ec7    7331\n",
      "0x68b3465833fb72a70ecdf485e0e4c7bd8665fc45    4286\n",
      "0x7492e30d60d96c58ed0f0dc2fe536098c620c4c0    4236\n",
      "0x00000000006c3852cbef3e08e8df289169ede581    2966\n",
      "0x06450dee7fd2fb8e39061434babcfc05599a6fb8    2260\n",
      "0xa0b86991c6218b36c1d19d4a2e9eb0ce3606eb48    2115\n",
      "0x7a250d5630b4cf539739df2c5dacb4c659f2488d    1481\n",
      "0xc02aaa39b223fe8d0a0e5c4f27ead9083c756cc2    1479\n",
      "0xeeeec6476073778077b40a73fe32e23a9876cab4     927\n",
      "0x76f4eed9fe41262669d0250b2a97db79712ad855     924\n",
      "0x881d40237659c251811cec9c364ef91dc08d300c     762\n",
      "0x6dfc34609a05bc22319fa4cce1d1e2929548c0d7     652\n",
      "0x881d4032abe4188e2237efcd27ab435e81fc6bb1     628\n",
      "0x000000000000ad05ccc4f10045630fb830b95127     613\n",
      "0x6bb204870617784397da68e46aefa49ebfda5a85     543\n",
      "0xc6dca8e9c9eb5a7eb68b04a69e63352d5d98695c     520\n",
      "0xa9d1e08c7793af67e9d92fe308d5697fb81d3e43     517\n",
      "0xf95d3b9a15edec2620d6791b69d777d8678c03f1     502\n",
      "0x283af0b28c62c092c9727f1ee09c02ca627eb7f5     492\n",
      "0x1111111254eeb25477b68fb85ed929f73a960582     422\n",
      "0xfc35d28bcd86d9e451b66d347871065eb5613866     400\n",
      "0xca6d7604ae55ba1ba864c26692a91979f25cdb96     399\n",
      "0xacc54cc82efaecfb16d9aaa93f7995c0aaf3435c     349\n",
      "0x75cda57917e9f73705dc8bcf8a6b2f99adbdc5a5     345\n",
      "0x95ad61b0a150d79219dcf64e1e6cc01f0b64c4ce     338\n",
      "0xae0ee0a63a2ce6baeeffe56e7714fb4efe48d419     333\n",
      "0x5c891d76584b46bc7f1e700169a76569bb77d2db     331\n",
      "0x0000000000c2d145a2526bd8c716263bfebe1a72     324\n",
      "0x39da41747a83aee658334415666f3ef92dd0d541     300\n",
      "0xe66b31678d6c16e9ebf358268a790b763c133750     299\n",
      "0x99c63d98a5314d363f7d8d730c8825dc807e2e42     299\n",
      "0xff1f2b4adb9df6fc8eafecdcbf96a2b351680455     278\n",
      "0x1111111254fb6c44bac0bed2854e76f90643097d     270\n",
      "0x4dbd4fc535ac27206064b68ffcf827b0a60bab3f     269\n",
      "0x5e4e65926ba27467555eb562121fac00d24e9dd2     268\n",
      "0xabea9132b05a70803a4e85094fd0e1800777fbef     262\n",
      "0xafc53db8506736e8264b4629e971a152ec3ff7d4     251\n",
      "0x28067505e54b7ac2a5f860b343340be8e73edecd     250\n",
      "0x6b175474e89094c44da98b954eedeac495271d0f     241\n",
      "Name: to_address, dtype: int64\n"
     ]
    }
   ],
   "source": [
    "print(df['to_address'].value_counts().head(40))"
   ]
  },
  {
   "cell_type": "markdown",
   "id": "ef62c134",
   "metadata": {},
   "source": [
    "# Which addresses have the highest average"
   ]
  },
  {
   "cell_type": "code",
   "execution_count": 106,
   "id": "50272cc8",
   "metadata": {},
   "outputs": [
    {
     "data": {
      "text/plain": [
       "from_address\n",
       "0x857f876490b63bdc7605165e0df568ae54f72d8e    1.000000e+21\n",
       "0x64f25383bb3e1bfe80378a520c4d9459fe45c0a6    9.999997e+20\n",
       "0xb9c6104599bfd4303683fedf9973184bde17b7a6    8.000000e+20\n",
       "0xbb98f2a83d78310342da3e63278ce7515d52619d    7.956572e+20\n",
       "0x52cadc4c160fdbc1e0830150815f67085ffa45a3    6.348416e+20\n",
       "0xbce6c8da74c37dff24b45bafbe8001371dead223    5.700000e+20\n",
       "0x2ba994a0511093a0b93e8094d1f4c025cef0211d    5.365026e+20\n",
       "0xc37704a457b1ee87eb657cae584a34961e86acac    4.000500e+20\n",
       "0x0e0dd4a9f1ae43300d537ba7d62220774c9c8312    3.999993e+20\n",
       "0x70747df6ac244979a2ae9ca1e1a82899d02bbea4    3.938400e+20\n",
       "0xbc772a2f76d2f76c25ff6cb6be8276663fc1410c    3.432980e+20\n",
       "0xfc012131693ec626f46e4b32a82d4fb09e8680fc    2.965000e+20\n",
       "0xfb761884155e5e2c5129c52b5feea4bb4e4c7a87    2.373272e+20\n",
       "0xafcab466b4878c02d868abcb52f5b40f60966992    1.775655e+20\n",
       "0x0f49c0c436b6dc0ba6c9ddc38568360406d27677    1.600780e+20\n",
       "0x33c7a78dec1a08a57c7da300380e44da53846e05    1.600000e+20\n",
       "0x7fd06e4d1f50e302b437975ce3db722346f08e40    1.458959e+20\n",
       "0x0bc662cb4d83fc73c6f47114f254d7f7f1346343    1.358249e+20\n",
       "0xe1b54d98f2f36d76d4d1a7f185a3e0860660aa5b    1.200000e+20\n",
       "0x60dc740cd5cf4f5087f6cf1aeecf8c3c698ff4b7    1.170607e+20\n",
       "Name: value, dtype: float64"
      ]
     },
     "execution_count": 106,
     "metadata": {},
     "output_type": "execute_result"
    }
   ],
   "source": [
    "# Average transaction value per sender address\n",
    "average_value_per_sender = df.groupby('from_address')['value'].mean()\n",
    "\n",
    "# Top 10 sender addresses with the highest average transaction value\n",
    "top_value_senders = average_value_per_sender.sort_values(ascending=False).head(20)\n",
    "\n",
    "(top_value_senders)"
   ]
  },
  {
   "cell_type": "code",
   "execution_count": 105,
   "id": "04b2b7d6",
   "metadata": {},
   "outputs": [
    {
     "data": {
      "text/plain": [
       "to_address\n",
       "0x21a31ee1afc51d94c2efccaa2092ad1028285549    4.169131e+22\n",
       "0xcd531ae9efcce479654c4926dec5f6209531ca7b    9.999997e+20\n",
       "0x86e284421664840cb65c5b918da59c01ed8fa666    8.000000e+20\n",
       "0x2b0c07573dbc5ba8b3ea72a48397baa2909664d7    7.956572e+20\n",
       "0x52cadc4c160fdbc1e0830150815f67085ffa45a3    6.348431e+20\n",
       "0xf0cf6b2af598c1f2909e148cbc5f5cc7c27b878b    5.035992e+20\n",
       "0x64f25383bb3e1bfe80378a520c4d9459fe45c0a6    5.000000e+20\n",
       "0xbda5ddd7cb8887799a0bd183a723e2c1e6470c28    4.362375e+20\n",
       "0x0e0dd4a9f1ae43300d537ba7d62220774c9c8312    4.000000e+20\n",
       "0xdece02a7c930d917d870ec8859434791f86d63c3    3.938400e+20\n",
       "0xfb761884155e5e2c5129c52b5feea4bb4e4c7a87    2.373279e+20\n",
       "0x892e9e24aea3f27f4c6e9360e312cce93cc98ebe    2.149950e+20\n",
       "0x7ea871c9343df09034ec580f63ae56118ab8dd48    2.129570e+20\n",
       "0x52f21fceacd9e35ad6d782c9ecdeacb4a4919e6e    1.959000e+20\n",
       "0xa294cca691e4c83b1fc0c8d63d9a3eef0a196de1    1.833331e+20\n",
       "0x0016c0d0343e8f2c3a7b6a51606b84b1545ec606    1.758570e+20\n",
       "0xfb45f4b551ca57547b67c6c9f516497dc9f56a57    1.722411e+20\n",
       "0x80792a7b0129ac73bac616ed05c04c475c9180b9    1.666659e+20\n",
       "0x9a9eecbfdb5cb7710193d3d91f5e4e77e79311b8    1.610000e+20\n",
       "0x8a7a4f945b7f1e714ff37f169fb83747f2ac7377    1.458959e+20\n",
       "Name: value, dtype: float64"
      ]
     },
     "execution_count": 105,
     "metadata": {},
     "output_type": "execute_result"
    }
   ],
   "source": [
    "# Average transaction value per receiver address\n",
    "average_value_per_receiver = df.groupby('to_address')['value'].mean()\n",
    "# Top 10 receiver addresses with the highest average transaction value\n",
    "top_value_receivers = average_value_per_receiver.sort_values(ascending=False).head(20)\n",
    "(top_value_receivers)"
   ]
  },
  {
   "cell_type": "code",
   "execution_count": 23,
   "id": "160933c6",
   "metadata": {},
   "outputs": [
    {
     "data": {
      "image/png": "[encoded data removed]",
      "text/plain": [
       "<Figure size 1000x600 with 1 Axes>"
      ]
     },
     "metadata": {},
     "output_type": "display_data"
    },
    {
     "data": {
      "text/plain": [
       "count    1.000000e+05\n",
       "mean     8.415031e+17\n",
       "std      1.321514e+20\n",
       "min      0.000000e+00\n",
       "25%      0.000000e+00\n",
       "50%      0.000000e+00\n",
       "75%      1.898315e+16\n",
       "max      4.169131e+22\n",
       "Name: value, dtype: float64"
      ]
     },
     "execution_count": 23,
     "metadata": {},
     "output_type": "execute_result"
    }
   ],
   "source": [
    "# Descriptive statistics for the 'value' column\n",
    "value_description = df['value'].describe()\n",
    "\n",
    "# Distribution of the transaction 'value'\n",
    "plt.figure(figsize=(10, 6))\n",
    "plt.hist(df['value'], bins=30, log=True, color='skyblue', edgecolor='black')\n",
    "plt.title('Distribution of Transaction Values')\n",
    "plt.xlabel('Value')\n",
    "plt.ylabel('Frequency (log scale)')\n",
    "plt.grid(True)\n",
    "plt.show()\n",
    "\n",
    "(value_description)"
   ]
  },
  {
   "cell_type": "markdown",
   "id": "95e7781b",
   "metadata": {},
   "source": [
    "<br/>\n",
    "<br/>\n",
    "\n",
    "### The distribution of transaction values is highly skewed, with most transactions having low values. This is common in financial data, where a large number of transactions are for small amounts, and a small number of transactions are for large amounts.\n",
    "\n",
    "<br/>\n",
    "<br/>\n"
   ]
  },
  {
   "cell_type": "code",
   "execution_count": 90,
   "id": "2dca3179",
   "metadata": {},
   "outputs": [
    {
     "name": "stdout",
     "output_type": "stream",
     "text": [
      "                                                hash  nonce  \\\n",
      "0  0xa611438e5637c227e5080477b7180fc3d1c76710f2aa...     14   \n",
      "1  0xd5d2fe97f1fa4b772476e208f1e9a3441a0f54a020ac...      3   \n",
      "2  0xc93e15158aa51a4d9a93c3c153868c8c89f4545c3445...     19   \n",
      "3  0x454bc286bda9cf62a43730e465df8e76c23124d6dde7...     17   \n",
      "4  0xba053083f0752cd5f9a152105698dba490d5992b9839...    993   \n",
      "5  0xc966f3ef652e857baafd1c0e02e72e743834d22fd89c...     31   \n",
      "6  0xa5fa5e68c6936be1323252eb37c9736146df01516c67...      1   \n",
      "7  0x52ad7c5009e21d5515070e8ea9acd38282315e578608...      2   \n",
      "8  0x2b7c72ddf82b3ca6259b049e850e7d2e806792320d8c...    566   \n",
      "9  0x00be2540dbde8e3076aa775795848e482b22136055f9...      1   \n",
      "\n",
      "   transaction_index                                from_address  \\\n",
      "0                 41  0x506a48155c891c78c04bc0b70eb1d9b2361635e0   \n",
      "1                 59  0x544c7de319b72b557a0c1fafccf5202813f9f3f7   \n",
      "2                 76  0x1562c07b34b828cedaadda6959a0b1362103b7b4   \n",
      "3                 83  0x0afaec415159835aab6d56fbc6a22e1d60c76c45   \n",
      "4                 90  0x7bd8477901552199e8208f62875aa94fab2fffb3   \n",
      "5                 93  0xf8205e37e797aea754107823f0c3808f057f1c71   \n",
      "6                 61  0x682756f72a2da3cf19b5aa893b1c6d78942df40e   \n",
      "7                 19  0x0854fb62c2e09a992e7a31de2715875816f03064   \n",
      "8                 82  0x068565c1f5bde10d4230a8157da12a4c0a825613   \n",
      "9                 48  0x2f93682371184d8c93468cad8f0107c6e6f38b12   \n",
      "\n",
      "                                   to_address         value     gas  \\\n",
      "0  0x7cc46cf6392ed9db45351a3f82eb2cc3b83da761  0.000000e+00  157911   \n",
      "1  0xf89d7b9c864f589bbf53a82105107622b35eaa40  1.708352e+15   21000   \n",
      "2  0x7dbfed48bddd2d4357f1f3c7dc45f5f85eb7100e  1.240000e+17   21000   \n",
      "3  0x6448d7a20ece8c57212ad52b362b5c9b4feac27d  3.300000e+17  176364   \n",
      "4  0x68b3465833fb72a70ecdf485e0e4c7bd8665fc45  0.000000e+00  212432   \n",
      "5  0xc02aaa39b223fe8d0a0e5c4f27ead9083c756cc2  0.000000e+00   46280   \n",
      "6  0xf89d7b9c864f589bbf53a82105107622b35eaa40  1.708352e+15   21000   \n",
      "7  0xdac17f958d2ee523a2206206994597c13d831ec7  0.000000e+00   70000   \n",
      "8  0xeeeec6476073778077b40a73fe32e23a9876cab4  7.942812e+16   30116   \n",
      "9  0xf89d7b9c864f589bbf53a82105107622b35eaa40  1.708352e+15   21000   \n",
      "\n",
      "     gas_price                                              input  \\\n",
      "0  12618483129  0xa0712d68000000000000000000000000000000000000...   \n",
      "1  12118483129                                                 0x   \n",
      "2  11618483129                                                 0x   \n",
      "3  11618483129  0x7649b957000000000000000000000000000000000000...   \n",
      "4  11618483129  0x5ae401dc000000000000000000000000000000000000...   \n",
      "5  11618483129  0x095ea7b30000000000000000000000001e0049783f00...   \n",
      "6  12118483129                                                 0x   \n",
      "7  15000000000  0xa9059cbb0000000000000000000000004ad8d9cf9424...   \n",
      "8  11618483129  0x2b66d72e000000000000000000000000000000000000...   \n",
      "9  12118483129                                                 0x   \n",
      "\n",
      "   receipt_cumulative_gas_used  ...  \\\n",
      "0                      2727153  ...   \n",
      "1                      4348316  ...   \n",
      "2                      5206151  ...   \n",
      "3                      6065201  ...   \n",
      "4                      6620399  ...   \n",
      "5                      6727335  ...   \n",
      "6                      4390316  ...   \n",
      "7                       986624  ...   \n",
      "8                      5953767  ...   \n",
      "9                      3601954  ...   \n",
      "\n",
      "                                          block_hash max_fee_per_gas  \\\n",
      "0  0x2dded46570b4cf879e0083e7f37a9169061075965dfd...    2.362667e+10   \n",
      "1  0x2dded46570b4cf879e0083e7f37a9169061075965dfd...    2.000000e+11   \n",
      "2  0x2dded46570b4cf879e0083e7f37a9169061075965dfd...    1.601040e+10   \n",
      "3  0x2dded46570b4cf879e0083e7f37a9169061075965dfd...    1.601040e+10   \n",
      "4  0x2dded46570b4cf879e0083e7f37a9169061075965dfd...    1.576050e+10   \n",
      "5  0x2dded46570b4cf879e0083e7f37a9169061075965dfd...    1.554924e+10   \n",
      "6  0x2dded46570b4cf879e0083e7f37a9169061075965dfd...    2.000000e+11   \n",
      "7  0x2dded46570b4cf879e0083e7f37a9169061075965dfd...             NaN   \n",
      "8  0x2dded46570b4cf879e0083e7f37a9169061075965dfd...    1.576050e+10   \n",
      "9  0x2dded46570b4cf879e0083e7f37a9169061075965dfd...    2.000000e+11   \n",
      "\n",
      "   max_priority_fee_per_gas transaction_type  receipt_effective_gas_price  \\\n",
      "0              2.500000e+09                2                  12618483129   \n",
      "1              2.000000e+09                2                  12118483129   \n",
      "2              1.500000e+09                2                  11618483129   \n",
      "3              1.500000e+09                2                  11618483129   \n",
      "4              1.500000e+09                2                  11618483129   \n",
      "5              1.500000e+09                2                  11618483129   \n",
      "6              2.000000e+09                2                  12118483129   \n",
      "7                       NaN                0                  15000000000   \n",
      "8              1.500000e+09                2                  11618483129   \n",
      "9              2.000000e+09                2                  12118483129   \n",
      "\n",
      "  hour_of_day  minute  day_of_week  month  year  \n",
      "0          17      56            6     12  2022  \n",
      "1          17      56            6     12  2022  \n",
      "2          17      56            6     12  2022  \n",
      "3          17      56            6     12  2022  \n",
      "4          17      56            6     12  2022  \n",
      "5          17      56            6     12  2022  \n",
      "6          17      56            6     12  2022  \n",
      "7          17      56            6     12  2022  \n",
      "8          17      56            6     12  2022  \n",
      "9          17      56            6     12  2022  \n",
      "\n",
      "[10 rows x 25 columns]\n"
     ]
    }
   ],
   "source": [
    "# Create time-based features\n",
    "df['hour_of_day'] = df['block_timestamp'].dt.hour\n",
    "df['minute'] = df['block_timestamp'].dt.minute\n",
    "df['day_of_week'] = df['block_timestamp'].dt.dayofweek\n",
    "df['month'] = df['block_timestamp'].dt.month\n",
    "df['year'] = df['block_timestamp'].dt.year\n",
    "print(df.head(10))"
   ]
  },
  {
   "cell_type": "code",
   "execution_count": 91,
   "id": "cd8040d9",
   "metadata": {},
   "outputs": [
    {
     "name": "stdout",
     "output_type": "stream",
     "text": [
      "12    100000\n",
      "Name: month, dtype: int64\n"
     ]
    }
   ],
   "source": [
    "print(df['month'].value_counts())"
   ]
  },
  {
   "cell_type": "code",
   "execution_count": 92,
   "id": "b7c43d0f",
   "metadata": {},
   "outputs": [
    {
     "name": "stdout",
     "output_type": "stream",
     "text": [
      "6    100000\n",
      "Name: day_of_week, dtype: int64\n"
     ]
    }
   ],
   "source": [
    "print(df['day_of_week'].value_counts())"
   ]
  },
  {
   "cell_type": "code",
   "execution_count": 93,
   "id": "fb4c0115",
   "metadata": {},
   "outputs": [
    {
     "name": "stdout",
     "output_type": "stream",
     "text": [
      "2022    100000\n",
      "Name: year, dtype: int64\n"
     ]
    }
   ],
   "source": [
    "print(df['year'].value_counts())"
   ]
  },
  {
   "cell_type": "code",
   "execution_count": 94,
   "id": "c3d7601c",
   "metadata": {},
   "outputs": [
    {
     "name": "stdout",
     "output_type": "stream",
     "text": [
      "16    46392\n",
      "17    44576\n",
      "15     9032\n",
      "Name: hour_of_day, dtype: int64\n"
     ]
    }
   ],
   "source": [
    "print(df['hour_of_day'].value_counts())"
   ]
  },
  {
   "cell_type": "code",
   "execution_count": 95,
   "id": "0a726099",
   "metadata": {},
   "outputs": [
    {
     "name": "stdout",
     "output_type": "stream",
     "text": [
      "48    2619\n",
      "51    2423\n",
      "55    2417\n",
      "53    2335\n",
      "49    2323\n",
      "52    2262\n",
      "54    2251\n",
      "50    2196\n",
      "35    2052\n",
      "37    1788\n",
      "12    1782\n",
      "56    1768\n",
      "7     1724\n",
      "20    1718\n",
      "5     1709\n",
      "9     1700\n",
      "18    1695\n",
      "57    1683\n",
      "21    1656\n",
      "31    1654\n",
      "40    1650\n",
      "47    1641\n",
      "13    1633\n",
      "30    1632\n",
      "3     1625\n",
      "28    1610\n",
      "16    1605\n",
      "10    1600\n",
      "36    1586\n",
      "23    1579\n",
      "58    1576\n",
      "42    1559\n",
      "24    1555\n",
      "27    1552\n",
      "15    1545\n",
      "46    1540\n",
      "29    1537\n",
      "2     1521\n",
      "41    1515\n",
      "14    1514\n",
      "6     1513\n",
      "0     1512\n",
      "39    1508\n",
      "44    1491\n",
      "22    1472\n",
      "34    1467\n",
      "4     1466\n",
      "43    1462\n",
      "17    1453\n",
      "26    1451\n",
      "25    1440\n",
      "59    1432\n",
      "33    1421\n",
      "32    1394\n",
      "19    1386\n",
      "45    1380\n",
      "1     1376\n",
      "38    1369\n",
      "11    1366\n",
      "8     1311\n",
      "Name: minute, dtype: int64\n"
     ]
    }
   ],
   "source": [
    "print(df['minute'].value_counts())"
   ]
  },
  {
   "cell_type": "markdown",
   "id": "286e0ad2",
   "metadata": {},
   "source": [
    "## So it seems that these data are for the transactions that took place between 15:00 - 17:00 on Sunday 04 / 12 / 2022"
   ]
  },
  {
   "cell_type": "markdown",
   "id": "47dc4a94",
   "metadata": {},
   "source": [
    "# Feature Engineering\n",
    "\n",
    "hour_of_day: This represents the hour of the day (in 24-hour format) when the block containing the transaction was added to the blockchain.\n",
    "\n",
    "day_of_week: This represents the day of the week (Monday=0, Sunday=6) when the block containing the transaction was added to the blockchain.\n",
    "\n",
    "month: This represents the months when the block containing the transaction was added to the blockchain.\n",
    "    \n",
    "year: This represents the hour of the year when the block containing the transaction was added to the blockchain.\n",
    "    \n",
    "total_transactions_sender: This represents the total number of transactions made by the sender address in the dataset.\n",
    "\n",
    "total_transactions_receiver: This represents the total number of transactions received by the receiver address in the dataset.\n",
    "\n",
    "average_value_sender: This represents the average value of transactions made by the sender address in the dataset.\n",
    "\n",
    "average_value_receiver: This represents the average value of transactions received by the receiver address in the dataset."
   ]
  }
 ],
 "metadata": {
  "kernelspec": {
   "display_name": "Python 3 (ipykernel)",
   "language": "python",
   "name": "python3"
  },
  "language_info": {
   "codemirror_mode": {
    "name": "ipython",
    "version": 3
   },
   "file_extension": ".py",
   "mimetype": "text/x-python",
   "name": "python",
   "nbconvert_exporter": "python",
   "pygments_lexer": "ipython3",
   "version": "3.10.6"
  }
 },
 "nbformat": 4,
 "nbformat_minor": 5
}
